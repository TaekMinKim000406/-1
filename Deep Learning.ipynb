{
 "cells": [
  {
   "cell_type": "markdown",
   "id": "4b078130-82fe-406c-9b1b-1b6267f8f929",
   "metadata": {},
   "source": [
    "#시간 상 부족해서 직접 구현은 포기"
   ]
  },
  {
   "cell_type": "code",
   "execution_count": 1,
   "id": "40d4de9b-35a2-44f9-a8d0-53fb6266b503",
   "metadata": {},
   "outputs": [],
   "source": [
    "import numpy as np"
   ]
  },
  {
   "cell_type": "code",
   "execution_count": 3,
   "id": "e3e7b022-8731-446a-9c4b-b7d0ea1f56e9",
   "metadata": {},
   "outputs": [],
   "source": [
    "def sigmoid(x):\n",
    "    return 1 / (1 + np.exp(-x))    \n",
    "def sigmoid_grad(x):\n",
    "    return (1.0 - sigmoid(x)) * sigmoid(x)"
   ]
  },
  {
   "cell_type": "code",
   "execution_count": 4,
   "id": "521400af-e90d-49fc-859e-f41961093314",
   "metadata": {},
   "outputs": [],
   "source": [
    "class Perceptron:\n",
    "    def __init__(self, input_size, learning_rate=0.001, epochs=100):\n",
    "        self.weights = np.zeros(input_size + 1)  # +1 for bias\n",
    "        self.learning_rate = learning_rate\n",
    "        self.epochs = epochs\n",
    "        \n",
    "    def activation_function(self, x):\n",
    "        return sigmoid(x)\n",
    "        \n",
    "    def fit(self, X, y):\n",
    "        X = np.c_[np.ones(X.shape[0]), X]\n",
    "\n",
    "        for epoch in range(self.epochs):\n",
    "            for i in range(X.shape[0]):\n",
    "                linear_output = np.dot(X[i], self.weights)\n",
    "                y_pred = self.activation_function(linear_output)\n",
    "                self.weights += self.learning_rate * sigmoid_grad((y[i] - y_pred) * X[i])\n",
    "    def predict(self, X):\n",
    "        X = np.c_[np.ones(X.shape[0]), X]\n",
    "        y_pred = [self.activation_function(np.dot(x, self.weights)) for x in X]\n",
    "        return np.array(y_pred)        \n"
   ]
  },
  {
   "cell_type": "code",
   "execution_count": 14,
   "id": "dd547a53-4fe8-4590-bd1b-8a29f430bf0f",
   "metadata": {},
   "outputs": [],
   "source": [
    "class Convolution:\n",
    "    def __init__(self, num_filters, filter_size, input_shape, stride=1, padding=0):\n",
    "        self.num_filters = num_filters\n",
    "        self.filter_size = filter_size\n",
    "        self.stride = stride\n",
    "        self.padding = padding\n",
    "        self.input_shape = input_shape\n",
    "        self.filters = np.random.randn(num_filters, input_shape[0], filter_size, filter_size) / np.sqrt(filter_size * filter_size)\n",
    "\n",
    "    def pad_input(self, X):\n",
    "        if self.padding == 0:\n",
    "            return X\n",
    "        return np.pad(X, ((0, 0), (0, 0), (self.padding, self.padding), (self.padding, self.padding)), mode='constant')\n",
    "\n",
    "    def convolve(self, x, filt):\n",
    "        c, h, w = filt.shape\n",
    "        out_h = (x.shape[1] - h) // self.stride + 1\n",
    "        out_w = (x.shape[2] - w) // self.stride + 1\n",
    "        out = np.zeros((out_h, out_w))\n",
    "        for i in range(0, out_h):\n",
    "            for j in range(0, out_w):\n",
    "                region = x[:, i * self.stride:i * self.stride + h, j * self.stride:j * self.stride + w]\n",
    "                out[i, j] = np.sum(region * filt)\n",
    "        return out\n",
    "\n",
    "    def forward(self, X):\n",
    "        X_padded = self.pad_input(X)\n",
    "        batch_size, _, _, _ = X_padded.shape\n",
    "        output_height = (X_padded.shape[2] - self.filter_size) // self.stride + 1\n",
    "        output_width = (X_padded.shape[3] - self.filter_size) // self.stride + 1\n",
    "        output = np.zeros((batch_size, self.num_filters, output_height, output_width))\n",
    "        for i in range(batch_size):\n",
    "            for j in range(self.num_filters):\n",
    "                output[i, j] = self.convolve(X_padded[i], self.filters[j])\n",
    "        return output"
   ]
  },
  {
   "cell_type": "code",
   "execution_count": null,
   "id": "5a5a6ad5-3d7d-4558-9ce2-943adbfdde05",
   "metadata": {},
   "outputs": [],
   "source": []
  }
 ],
 "metadata": {
  "kernelspec": {
   "display_name": "Python 3 (ipykernel)",
   "language": "python",
   "name": "python3"
  },
  "language_info": {
   "codemirror_mode": {
    "name": "ipython",
    "version": 3
   },
   "file_extension": ".py",
   "mimetype": "text/x-python",
   "name": "python",
   "nbconvert_exporter": "python",
   "pygments_lexer": "ipython3",
   "version": "3.12.4"
  }
 },
 "nbformat": 4,
 "nbformat_minor": 5
}
